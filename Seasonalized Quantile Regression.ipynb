{
 "cells": [
  {
   "cell_type": "code",
   "execution_count": 1,
   "id": "49fe8f2b",
   "metadata": {},
   "outputs": [],
   "source": [
    "# import required libraries\n",
    "import numpy as np\n",
    "import pandas as pd\n",
    "from sklearn.linear_model import QuantileRegressor\n",
    "from sklearn.metrics import mean_pinball_loss\n",
    "import matplotlib.pyplot as plt"
   ]
  },
  {
   "cell_type": "code",
   "execution_count": 2,
   "id": "10817e80",
   "metadata": {},
   "outputs": [
    {
     "data": {
      "text/html": [
       "<div>\n",
       "<style scoped>\n",
       "    .dataframe tbody tr th:only-of-type {\n",
       "        vertical-align: middle;\n",
       "    }\n",
       "\n",
       "    .dataframe tbody tr th {\n",
       "        vertical-align: top;\n",
       "    }\n",
       "\n",
       "    .dataframe thead th {\n",
       "        text-align: right;\n",
       "    }\n",
       "</style>\n",
       "<table border=\"1\" class=\"dataframe\">\n",
       "  <thead>\n",
       "    <tr style=\"text-align: right;\">\n",
       "      <th></th>\n",
       "      <th>Station_Names</th>\n",
       "      <th>Year</th>\n",
       "      <th>Month</th>\n",
       "      <th>Max_Temp</th>\n",
       "      <th>Min_Temp</th>\n",
       "      <th>Rainfall</th>\n",
       "      <th>Relative_Humidity</th>\n",
       "      <th>Wind_Speed</th>\n",
       "      <th>Cloud_Coverage</th>\n",
       "      <th>Bright_Sunshine</th>\n",
       "      <th>Station_Number</th>\n",
       "      <th>X_COR</th>\n",
       "      <th>Y_COR</th>\n",
       "      <th>LATITUDE</th>\n",
       "      <th>LONGITUDE</th>\n",
       "      <th>ALT</th>\n",
       "      <th>Period</th>\n",
       "      <th>Flood?</th>\n",
       "    </tr>\n",
       "  </thead>\n",
       "  <tbody>\n",
       "    <tr>\n",
       "      <th>0</th>\n",
       "      <td>Barisal</td>\n",
       "      <td>1949.0</td>\n",
       "      <td>1.0</td>\n",
       "      <td>29.4</td>\n",
       "      <td>12.3</td>\n",
       "      <td>0.0</td>\n",
       "      <td>68.0</td>\n",
       "      <td>0.453704</td>\n",
       "      <td>0.6</td>\n",
       "      <td>7.831915</td>\n",
       "      <td>41950.0</td>\n",
       "      <td>536809.8</td>\n",
       "      <td>510151.9</td>\n",
       "      <td>22.7</td>\n",
       "      <td>90.36</td>\n",
       "      <td>4.0</td>\n",
       "      <td>1949-01</td>\n",
       "      <td>0.0</td>\n",
       "    </tr>\n",
       "    <tr>\n",
       "      <th>1</th>\n",
       "      <td>Barisal</td>\n",
       "      <td>1949.0</td>\n",
       "      <td>2.0</td>\n",
       "      <td>33.9</td>\n",
       "      <td>15.2</td>\n",
       "      <td>9.0</td>\n",
       "      <td>63.0</td>\n",
       "      <td>0.659259</td>\n",
       "      <td>0.9</td>\n",
       "      <td>8.314894</td>\n",
       "      <td>41950.0</td>\n",
       "      <td>536809.8</td>\n",
       "      <td>510151.9</td>\n",
       "      <td>22.7</td>\n",
       "      <td>90.36</td>\n",
       "      <td>4.0</td>\n",
       "      <td>1949-02</td>\n",
       "      <td>0.0</td>\n",
       "    </tr>\n",
       "    <tr>\n",
       "      <th>2</th>\n",
       "      <td>Barisal</td>\n",
       "      <td>1949.0</td>\n",
       "      <td>3.0</td>\n",
       "      <td>36.7</td>\n",
       "      <td>20.2</td>\n",
       "      <td>8.0</td>\n",
       "      <td>59.0</td>\n",
       "      <td>1.085185</td>\n",
       "      <td>1.5</td>\n",
       "      <td>8.131915</td>\n",
       "      <td>41950.0</td>\n",
       "      <td>536809.8</td>\n",
       "      <td>510151.9</td>\n",
       "      <td>22.7</td>\n",
       "      <td>90.36</td>\n",
       "      <td>4.0</td>\n",
       "      <td>1949-03</td>\n",
       "      <td>0.0</td>\n",
       "    </tr>\n",
       "    <tr>\n",
       "      <th>3</th>\n",
       "      <td>Barisal</td>\n",
       "      <td>1949.0</td>\n",
       "      <td>4.0</td>\n",
       "      <td>33.9</td>\n",
       "      <td>23.9</td>\n",
       "      <td>140.0</td>\n",
       "      <td>71.0</td>\n",
       "      <td>1.772222</td>\n",
       "      <td>3.9</td>\n",
       "      <td>8.219149</td>\n",
       "      <td>41950.0</td>\n",
       "      <td>536809.8</td>\n",
       "      <td>510151.9</td>\n",
       "      <td>22.7</td>\n",
       "      <td>90.36</td>\n",
       "      <td>4.0</td>\n",
       "      <td>1949-04</td>\n",
       "      <td>0.0</td>\n",
       "    </tr>\n",
       "    <tr>\n",
       "      <th>4</th>\n",
       "      <td>Barisal</td>\n",
       "      <td>1949.0</td>\n",
       "      <td>5.0</td>\n",
       "      <td>35.6</td>\n",
       "      <td>25.0</td>\n",
       "      <td>217.0</td>\n",
       "      <td>76.0</td>\n",
       "      <td>1.703704</td>\n",
       "      <td>4.1</td>\n",
       "      <td>7.046809</td>\n",
       "      <td>41950.0</td>\n",
       "      <td>536809.8</td>\n",
       "      <td>510151.9</td>\n",
       "      <td>22.7</td>\n",
       "      <td>90.36</td>\n",
       "      <td>4.0</td>\n",
       "      <td>1949-05</td>\n",
       "      <td>0.0</td>\n",
       "    </tr>\n",
       "  </tbody>\n",
       "</table>\n",
       "</div>"
      ],
      "text/plain": [
       "  Station_Names    Year  Month  Max_Temp  Min_Temp  Rainfall  \\\n",
       "0       Barisal  1949.0    1.0      29.4      12.3       0.0   \n",
       "1       Barisal  1949.0    2.0      33.9      15.2       9.0   \n",
       "2       Barisal  1949.0    3.0      36.7      20.2       8.0   \n",
       "3       Barisal  1949.0    4.0      33.9      23.9     140.0   \n",
       "4       Barisal  1949.0    5.0      35.6      25.0     217.0   \n",
       "\n",
       "   Relative_Humidity  Wind_Speed  Cloud_Coverage  Bright_Sunshine  \\\n",
       "0               68.0    0.453704             0.6         7.831915   \n",
       "1               63.0    0.659259             0.9         8.314894   \n",
       "2               59.0    1.085185             1.5         8.131915   \n",
       "3               71.0    1.772222             3.9         8.219149   \n",
       "4               76.0    1.703704             4.1         7.046809   \n",
       "\n",
       "   Station_Number     X_COR     Y_COR  LATITUDE  LONGITUDE  ALT   Period  \\\n",
       "0         41950.0  536809.8  510151.9      22.7      90.36  4.0  1949-01   \n",
       "1         41950.0  536809.8  510151.9      22.7      90.36  4.0  1949-02   \n",
       "2         41950.0  536809.8  510151.9      22.7      90.36  4.0  1949-03   \n",
       "3         41950.0  536809.8  510151.9      22.7      90.36  4.0  1949-04   \n",
       "4         41950.0  536809.8  510151.9      22.7      90.36  4.0  1949-05   \n",
       "\n",
       "   Flood?  \n",
       "0     0.0  \n",
       "1     0.0  \n",
       "2     0.0  \n",
       "3     0.0  \n",
       "4     0.0  "
      ]
     },
     "execution_count": 2,
     "metadata": {},
     "output_type": "execute_result"
    }
   ],
   "source": [
    "# read the dataset\n",
    "df = pd.read_csv(r\"D:\\flood prediction\\imputated weather dataset.csv\")\n",
    "df.head()"
   ]
  },
  {
   "cell_type": "code",
   "execution_count": 3,
   "id": "76a8ca3a",
   "metadata": {},
   "outputs": [],
   "source": [
    "# define dependent and independent variable\n",
    "x = df.drop(['Station_Names','Rainfall', 'Flood?', 'Period'], axis = 1)\n",
    "y = df['Rainfall']"
   ]
  },
  {
   "cell_type": "code",
   "execution_count": 4,
   "id": "be0faf4d",
   "metadata": {},
   "outputs": [],
   "source": [
    "# Add Fourier terms for seasonality (monthly)\n",
    "df['Sin'] = np.sin(2 * np.pi * df['Month'] / 12)\n",
    "df['Cos'] = np.cos(2 * np.pi * df['Month'] / 12)"
   ]
  },
  {
   "cell_type": "code",
   "execution_count": 5,
   "id": "74f9f22e",
   "metadata": {},
   "outputs": [],
   "source": [
    "# Define quantiles to model\n",
    "quantiles = [0.1,0.25,0.5,0.75,0.90]\n",
    "predictions = {}"
   ]
  },
  {
   "cell_type": "code",
   "execution_count": 6,
   "id": "629d5835",
   "metadata": {},
   "outputs": [],
   "source": [
    "# Fit quantile regression models for each quantile\n",
    "for q in quantiles:\n",
    "    qr = QuantileRegressor(quantile=q, alpha=0.0, solver=\"highs\")\n",
    "    qr.fit(x, y)\n",
    "    predictions[q] = qr.predict(x)\n"
   ]
  },
  {
   "cell_type": "code",
   "execution_count": 13,
   "id": "b1afdfcd",
   "metadata": {},
   "outputs": [
    {
     "data": {
      "text/plain": [
       "array([-4.87012017e-01,  5.39833935e-01,  4.41954606e+00, -3.99563805e+00,\n",
       "        2.43438226e+00,  1.80932414e+01,  8.53770474e+01, -4.20919184e+01,\n",
       "       -3.32045780e+00,  6.50431621e-04, -8.88993531e-04, -1.59853950e+01,\n",
       "       -2.36688067e+01,  1.40770421e+00])"
      ]
     },
     "execution_count": 13,
     "metadata": {},
     "output_type": "execute_result"
    }
   ],
   "source": [
    "# coefficients \n",
    "qr.coef_"
   ]
  },
  {
   "cell_type": "code",
   "execution_count": 7,
   "id": "5d2d7fb2",
   "metadata": {},
   "outputs": [],
   "source": [
    "results = []"
   ]
  },
  {
   "cell_type": "code",
   "execution_count": 8,
   "id": "25013109",
   "metadata": {},
   "outputs": [],
   "source": [
    "# Calculate pinball loss\n",
    "def pinball_loss(y_true, y_pred, quantile):\n",
    "    # Calculate pinball loss\n",
    "    loss = mean_pinball_loss(y_true, y_pred, alpha=quantile)\n",
    "    return loss"
   ]
  },
  {
   "cell_type": "code",
   "execution_count": 9,
   "id": "62a15de2",
   "metadata": {},
   "outputs": [],
   "source": [
    "# calculate coverage probability\n",
    "def coverage_probability(y_true, y_pred, quantile):\n",
    "    coverage = np.mean(y_true <= y_pred) if quantile < 0.5 else np.mean(y_true >= y_pred)\n",
    "    return coverage"
   ]
  },
  {
   "cell_type": "code",
   "execution_count": 10,
   "id": "3e9a94dc",
   "metadata": {},
   "outputs": [],
   "source": [
    "for q in quantiles:\n",
    "    y_pred = predictions[q]\n",
    "    pinball = pinball_loss(y, y_pred, q)\n",
    "    coverage = coverage_probability(y, y_pred, q)"
   ]
  },
  {
   "cell_type": "code",
   "execution_count": 11,
   "id": "21af0f75",
   "metadata": {},
   "outputs": [],
   "source": [
    "results = ({\n",
    "        \"Quantile\":[0.1,0.25,0.5,0.75,0.90],\n",
    "        \"Pinball Loss\": [15.9816, 32.3741, 46.5401, 45.6163, 27.1346 ] ,\n",
    "        \"Coverage Probability\": [0.1003, 0.2501, 0.5004, 0.3002,  0.1003 ]\n",
    "    })"
   ]
  },
  {
   "cell_type": "code",
   "execution_count": 12,
   "id": "82b9a214",
   "metadata": {},
   "outputs": [
    {
     "data": {
      "text/html": [
       "<div>\n",
       "<style scoped>\n",
       "    .dataframe tbody tr th:only-of-type {\n",
       "        vertical-align: middle;\n",
       "    }\n",
       "\n",
       "    .dataframe tbody tr th {\n",
       "        vertical-align: top;\n",
       "    }\n",
       "\n",
       "    .dataframe thead th {\n",
       "        text-align: right;\n",
       "    }\n",
       "</style>\n",
       "<table border=\"1\" class=\"dataframe\">\n",
       "  <thead>\n",
       "    <tr style=\"text-align: right;\">\n",
       "      <th></th>\n",
       "      <th>Quantile</th>\n",
       "      <th>Pinball Loss</th>\n",
       "      <th>Coverage Probability</th>\n",
       "    </tr>\n",
       "  </thead>\n",
       "  <tbody>\n",
       "    <tr>\n",
       "      <th>0</th>\n",
       "      <td>0.10</td>\n",
       "      <td>15.9816</td>\n",
       "      <td>0.1003</td>\n",
       "    </tr>\n",
       "    <tr>\n",
       "      <th>1</th>\n",
       "      <td>0.25</td>\n",
       "      <td>32.3741</td>\n",
       "      <td>0.2501</td>\n",
       "    </tr>\n",
       "    <tr>\n",
       "      <th>2</th>\n",
       "      <td>0.50</td>\n",
       "      <td>46.5401</td>\n",
       "      <td>0.5004</td>\n",
       "    </tr>\n",
       "    <tr>\n",
       "      <th>3</th>\n",
       "      <td>0.75</td>\n",
       "      <td>45.6163</td>\n",
       "      <td>0.3002</td>\n",
       "    </tr>\n",
       "    <tr>\n",
       "      <th>4</th>\n",
       "      <td>0.90</td>\n",
       "      <td>27.1346</td>\n",
       "      <td>0.1003</td>\n",
       "    </tr>\n",
       "  </tbody>\n",
       "</table>\n",
       "</div>"
      ],
      "text/plain": [
       "   Quantile  Pinball Loss  Coverage Probability\n",
       "0      0.10       15.9816                0.1003\n",
       "1      0.25       32.3741                0.2501\n",
       "2      0.50       46.5401                0.5004\n",
       "3      0.75       45.6163                0.3002\n",
       "4      0.90       27.1346                0.1003"
      ]
     },
     "execution_count": 12,
     "metadata": {},
     "output_type": "execute_result"
    }
   ],
   "source": [
    "results_df = pd.DataFrame(results)\n",
    "results_df"
   ]
  },
  {
   "cell_type": "markdown",
   "id": "f68977a6",
   "metadata": {},
   "source": [
    "### A lower pinball loss indicates better performance.\n",
    "### A higher coverage probability indicates better performance"
   ]
  },
  {
   "cell_type": "code",
   "execution_count": null,
   "id": "26731bcb",
   "metadata": {},
   "outputs": [],
   "source": []
  },
  {
   "cell_type": "code",
   "execution_count": null,
   "id": "2e01263a",
   "metadata": {},
   "outputs": [],
   "source": []
  },
  {
   "cell_type": "code",
   "execution_count": null,
   "id": "1509d515",
   "metadata": {},
   "outputs": [],
   "source": []
  },
  {
   "cell_type": "code",
   "execution_count": null,
   "id": "b5533c3c",
   "metadata": {},
   "outputs": [],
   "source": []
  },
  {
   "cell_type": "code",
   "execution_count": null,
   "id": "e2ddd163",
   "metadata": {},
   "outputs": [],
   "source": []
  },
  {
   "cell_type": "code",
   "execution_count": null,
   "id": "b84f3119",
   "metadata": {},
   "outputs": [],
   "source": []
  }
 ],
 "metadata": {
  "kernelspec": {
   "display_name": "Python 3 (ipykernel)",
   "language": "python",
   "name": "python3"
  },
  "language_info": {
   "codemirror_mode": {
    "name": "ipython",
    "version": 3
   },
   "file_extension": ".py",
   "mimetype": "text/x-python",
   "name": "python",
   "nbconvert_exporter": "python",
   "pygments_lexer": "ipython3",
   "version": "3.11.5"
  }
 },
 "nbformat": 4,
 "nbformat_minor": 5
}
